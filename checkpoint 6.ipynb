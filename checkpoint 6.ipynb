{
 "cells": [
  {
   "cell_type": "code",
   "execution_count": null,
   "id": "4354f7e1-c98c-46f2-8ca3-f0562508c525",
   "metadata": {},
   "outputs": [],
   "source": [
    "#question 1\n",
    "import numpy as np\n",
    "a=np.array([1,2,3])\n",
    "a.tolist()\n",
    "print(a)"
   ]
  },
  {
   "cell_type": "code",
   "execution_count": null,
   "id": "ff4836bf-f12c-41cc-9cfa-9e5b55af01bb",
   "metadata": {},
   "outputs": [],
   "source": [
    "#question 2\n",
    "import numpy as np\n",
    "a = int(input(\"Enter the number of rows:\")) \n",
    "b = int(input(\"Enter the number of columns:\")) \n",
    "array = [] \n",
    "print(\"Enter the entries rowwise:\") \n",
    "for i in range(a): \n",
    "    a =[] \n",
    "    for j in range(b):\n",
    "         a.append(int(input())) \n",
    "    array.append(a) \n",
    "print(array)\n",
    "x = np.asarray(array)\n",
    "print('Diagonal (sum): ', np.trace(x))"
   ]
  },
  {
   "cell_type": "code",
   "execution_count": null,
   "id": "f987dd21-e738-4b43-bb86-3aea3548add7",
   "metadata": {},
   "outputs": [],
   "source": [
    "#question 3\n",
    "import numpy as np\n",
    "a=np.array([[1,2,3,4,5],[6,7,8,9,10]])\n",
    "x=4\n",
    "l=[]\n",
    "for i in a[0]:\n",
    "    if i>x:\n",
    "        l.append(i)\n",
    "for v in a[1]:\n",
    "    if v>x:\n",
    "        l.append(v)\n",
    "print(l)"
   ]
  },
  {
   "cell_type": "code",
   "execution_count": null,
   "id": "3bf4f904-c71f-4a64-89cb-51e1e1fcc9ef",
   "metadata": {},
   "outputs": [],
   "source": [
    "#question 4\n",
    "import numpy as np\n",
    "a=np.array([1,2,3,4,5,6])\n",
    "b=np.array([7,8,9,10,11,12])\n",
    "c=np.add(a,b)\n",
    "print(c)"
   ]
  },
  {
   "cell_type": "code",
   "execution_count": null,
   "id": "5c6d3f3b-1655-495a-b817-ed6bb02128a7",
   "metadata": {},
   "outputs": [],
   "source": [
    "#question 5\n",
    "import numpy as np\n",
    "import statistics as st\n",
    "a = int(input(\"Enter the number of rows:\")) \n",
    "b = int(input(\"Enter the number of columns:\")) \n",
    "array = [] \n",
    "print(\"Enter the entries rowwise:\") \n",
    "for i in range(a): \n",
    "    a =[] \n",
    "    for j in range(b):\n",
    "         a.append(int(input())) \n",
    "    array.append(a) \n",
    "print(array)\n",
    "for i in range (b):\n",
    "    print(st.mean(array[i]))"
   ]
  },
  {
   "cell_type": "code",
   "execution_count": null,
   "id": "691969f4-4a20-4750-a38c-e0e1eb05cac1",
   "metadata": {},
   "outputs": [],
   "source": []
  }
 ],
 "metadata": {
  "kernelspec": {
   "display_name": "Python 3",
   "language": "python",
   "name": "python3"
  },
  "language_info": {
   "codemirror_mode": {
    "name": "ipython",
    "version": 3
   },
   "file_extension": ".py",
   "mimetype": "text/x-python",
   "name": "python",
   "nbconvert_exporter": "python",
   "pygments_lexer": "ipython3",
   "version": "3.8.8"
  }
 },
 "nbformat": 4,
 "nbformat_minor": 5
}
